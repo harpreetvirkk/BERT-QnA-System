{
 "cells": [
  {
   "cell_type": "code",
   "execution_count": null,
   "metadata": {
    "id": "3MDMAGl8hsh6"
   },
   "outputs": [],
   "source": [
    "!pip3 install fse\n",
    "!pip3 install transformers\n",
    "!pip3 install torch\n",
    "!git clone -l -s https://github.com/harpreetvirkk/NLP-QuestionAnswerSystem rep\n",
    "%cd rep\n",
    "!ls dataset"
   ]
  },
  {
   "cell_type": "code",
   "execution_count": null,
   "metadata": {
    "id": "7Pmhgxb6h96F"
   },
   "outputs": [],
   "source": [
    "import math\n",
    "import os\n",
    "import re\n",
    "import fse\n",
    "import gensim\n",
    "import gensim.downloader as api\n",
    "import nltk\n",
    "import numpy as np\n",
    "import pandas as pd\n",
    "from fse import SplitIndexedList\n",
    "from fse.models import uSIF\n",
    "from nltk.corpus import stopwords\n",
    "from sklearn import metrics\n",
    "from sklearn.metrics.pairwise import cosine_similarity\n",
    "nltk.download('wordnet')\n",
    "nltk.download('stopwords')\n",
    "import logging\n",
    "import re\n",
    "import unicodedata\n",
    "import matplotlib.pyplot as plt\n",
    "import seaborn as sns\n",
    "import torch\n",
    "from nltk.tokenize import word_tokenize\n",
    "from transformers import BertForQuestionAnswering, BertTokenizer\n",
    "pd.set_option('display.max_colwidth', -1)"
   ]
  },
  {
   "cell_type": "code",
   "execution_count": null,
   "metadata": {
    "id": "4vlR9fAliBoA"
   },
   "outputs": [],
   "source": [
    "# Reading in the dataset\n",
    "df1 = pd.read_csv('./dataset/S08_question_answer_pairs.txt', sep='\\t')\n",
    "df2 = pd.read_csv('./dataset/S09_question_answer_pairs.txt', sep='\\t')\n",
    "df3 = pd.read_csv('./dataset/S10_question_answer_pairs.txt', sep='\\t', encoding = 'ISO-8859-1')\n",
    "frames = [df1, df2, df3]\n",
    "df = pd.concat(frames)"
   ]
  },
  {
   "cell_type": "code",
   "execution_count": null,
   "metadata": {
    "id": "R0nymiUmiGSl"
   },
   "outputs": [],
   "source": [
    "def getArticleText(file):\n",
    "  fpath = './dataset/text_data/'+file+'.txt.clean'\n",
    "  try:\n",
    "    f = open(fpath, 'r')\n",
    "    text = f.read()\n",
    "  except UnicodeDecodeError:\n",
    "    f = open(fpath, 'r', encoding = 'ISO-8859-1')\n",
    "    text = f.read()\n",
    "  return text"
   ]
  },
  {
   "cell_type": "code",
   "execution_count": null,
   "metadata": {
    "colab": {
     "base_uri": "https://localhost:8080/",
     "height": 402
    },
    "id": "jQeE475GiWTH",
    "outputId": "1efd3921-fea5-41d5-9bed-81230808a70f"
   },
   "outputs": [
    {
     "data": {
      "text/html": [
       "<div>\n",
       "<style scoped>\n",
       "    .dataframe tbody tr th:only-of-type {\n",
       "        vertical-align: middle;\n",
       "    }\n",
       "\n",
       "    .dataframe tbody tr th {\n",
       "        vertical-align: top;\n",
       "    }\n",
       "\n",
       "    .dataframe thead th {\n",
       "        text-align: right;\n",
       "    }\n",
       "</style>\n",
       "<table border=\"1\" class=\"dataframe\">\n",
       "  <thead>\n",
       "    <tr style=\"text-align: right;\">\n",
       "      <th></th>\n",
       "      <th>ArticleTitle</th>\n",
       "      <th>Question</th>\n",
       "      <th>Answer</th>\n",
       "      <th>ArticleText</th>\n",
       "    </tr>\n",
       "  </thead>\n",
       "  <tbody>\n",
       "    <tr>\n",
       "      <th>0</th>\n",
       "      <td>Abraham_Lincoln</td>\n",
       "      <td>Was Abraham Lincoln the sixteenth President of...</td>\n",
       "      <td>yes</td>\n",
       "      <td>Abraham Lincoln. Abraham Lincoln (February 12,...</td>\n",
       "    </tr>\n",
       "    <tr>\n",
       "      <th>1</th>\n",
       "      <td>Abraham_Lincoln</td>\n",
       "      <td>Was Abraham Lincoln the sixteenth President of...</td>\n",
       "      <td>Yes.</td>\n",
       "      <td>Abraham Lincoln. Abraham Lincoln (February 12,...</td>\n",
       "    </tr>\n",
       "    <tr>\n",
       "      <th>2</th>\n",
       "      <td>Abraham_Lincoln</td>\n",
       "      <td>Did Lincoln sign the National Banking Act of 1...</td>\n",
       "      <td>yes</td>\n",
       "      <td>Abraham Lincoln. Abraham Lincoln (February 12,...</td>\n",
       "    </tr>\n",
       "    <tr>\n",
       "      <th>3</th>\n",
       "      <td>Abraham_Lincoln</td>\n",
       "      <td>Did Lincoln sign the National Banking Act of 1...</td>\n",
       "      <td>Yes.</td>\n",
       "      <td>Abraham Lincoln. Abraham Lincoln (February 12,...</td>\n",
       "    </tr>\n",
       "    <tr>\n",
       "      <th>4</th>\n",
       "      <td>Abraham_Lincoln</td>\n",
       "      <td>Did his mother die of pneumonia?</td>\n",
       "      <td>no</td>\n",
       "      <td>Abraham Lincoln. Abraham Lincoln (February 12,...</td>\n",
       "    </tr>\n",
       "    <tr>\n",
       "      <th>...</th>\n",
       "      <td>...</td>\n",
       "      <td>...</td>\n",
       "      <td>...</td>\n",
       "      <td>...</td>\n",
       "    </tr>\n",
       "    <tr>\n",
       "      <th>1452</th>\n",
       "      <td>Zebra</td>\n",
       "      <td>What areas do the Grevy's Zebras inhabit?</td>\n",
       "      <td>semi-arid grasslands of Ethiopia and northern ...</td>\n",
       "      <td>Zebra. Plains zebra. Grevy's zebra. Zebras are...</td>\n",
       "    </tr>\n",
       "    <tr>\n",
       "      <th>1454</th>\n",
       "      <td>Zebra</td>\n",
       "      <td>Which species of zebra is known as the common ...</td>\n",
       "      <td>Plains Zebra (Equus quagga, formerly Equus bur...</td>\n",
       "      <td>Zebra. Plains zebra. Grevy's zebra. Zebras are...</td>\n",
       "    </tr>\n",
       "    <tr>\n",
       "      <th>1455</th>\n",
       "      <td>Zebra</td>\n",
       "      <td>Which species of zebra is known as the common ...</td>\n",
       "      <td>Plains Zebra</td>\n",
       "      <td>Zebra. Plains zebra. Grevy's zebra. Zebras are...</td>\n",
       "    </tr>\n",
       "    <tr>\n",
       "      <th>1456</th>\n",
       "      <td>Zebra</td>\n",
       "      <td>At what age can a zebra breed?</td>\n",
       "      <td>five or six</td>\n",
       "      <td>Zebra. Plains zebra. Grevy's zebra. Zebras are...</td>\n",
       "    </tr>\n",
       "    <tr>\n",
       "      <th>1457</th>\n",
       "      <td>Zebra</td>\n",
       "      <td>At what age can a zebra breed?</td>\n",
       "      <td>5 or 6</td>\n",
       "      <td>Zebra. Plains zebra. Grevy's zebra. Zebras are...</td>\n",
       "    </tr>\n",
       "  </tbody>\n",
       "</table>\n",
       "<p>3420 rows × 4 columns</p>\n",
       "</div>"
      ],
      "text/plain": [
       "         ArticleTitle  ...                                        ArticleText\n",
       "0     Abraham_Lincoln  ...  Abraham Lincoln. Abraham Lincoln (February 12,...\n",
       "1     Abraham_Lincoln  ...  Abraham Lincoln. Abraham Lincoln (February 12,...\n",
       "2     Abraham_Lincoln  ...  Abraham Lincoln. Abraham Lincoln (February 12,...\n",
       "3     Abraham_Lincoln  ...  Abraham Lincoln. Abraham Lincoln (February 12,...\n",
       "4     Abraham_Lincoln  ...  Abraham Lincoln. Abraham Lincoln (February 12,...\n",
       "...               ...  ...                                                ...\n",
       "1452            Zebra  ...  Zebra. Plains zebra. Grevy's zebra. Zebras are...\n",
       "1454            Zebra  ...  Zebra. Plains zebra. Grevy's zebra. Zebras are...\n",
       "1455            Zebra  ...  Zebra. Plains zebra. Grevy's zebra. Zebras are...\n",
       "1456            Zebra  ...  Zebra. Plains zebra. Grevy's zebra. Zebras are...\n",
       "1457            Zebra  ...  Zebra. Plains zebra. Grevy's zebra. Zebras are...\n",
       "\n",
       "[3420 rows x 4 columns]"
      ]
     },
     "execution_count": 8,
     "metadata": {
      "tags": []
     },
     "output_type": "execute_result"
    }
   ],
   "source": [
    "df = df.dropna(subset=['ArticleFile'])\n",
    "df = df.dropna(subset=['Answer'])\n",
    "df['ArticleText'] = df['ArticleFile'].apply(lambda x: getArticleText(x))\n",
    "df['ArticleText'] = df['ArticleText'].apply(lambda x: re.sub(r'(\\n)+', '. ', x))\n",
    "df = df.drop(['DifficultyFromQuestioner', 'DifficultyFromAnswerer', 'ArticleFile'], axis='columns')\n",
    "df"
   ]
  },
  {
   "cell_type": "code",
   "execution_count": null,
   "metadata": {
    "id": "EwjS2fCjiWVz"
   },
   "outputs": [],
   "source": [
    "# stop_words = set(stopwords.words('english'))\n",
    "def cleanQuestion(text):\n",
    "  text = str(text)\n",
    "  # wnl = nltk.stem.WordNetLemmatizer()\n",
    "  text = text.lower()\n",
    "  words = re.sub(r'[^\\w\\s]', '', text).split()\n",
    "  # words = [word for word in words if not word in stop_words]\n",
    "  return \" \".join([word for word in words])\n",
    "\n",
    "def cleanAnswer(text):\n",
    "  text = str(text)\n",
    "  # wnl = nltk.stem.WordNetLemmatizer()\n",
    "  text = text.lower()\n",
    "  words = re.sub(r'[^\\w\\s]', '', text).split()\n",
    "  # words = [word for word in words if not word in stop_words]\n",
    "  return \" \".join([word for word in words])\n",
    "\n",
    "def cleanText(text):\n",
    "  text = str(text)\n",
    "  # wnl = nltk.stem.WordNetLemmatizer()\n",
    "  text = text.lower()\n",
    "  words = re.sub(r'[^\\w\\s\\.\\?]', '', text).split()\n",
    "  # words = [word for word in words if not word in stop_words]\n",
    "  return \" \".join([word for word in words])"
   ]
  },
  {
   "cell_type": "code",
   "execution_count": null,
   "metadata": {
    "colab": {
     "base_uri": "https://localhost:8080/",
     "height": 402
    },
    "id": "aYCWxxVdiWZV",
    "outputId": "e27a1829-331c-4549-d3d4-95c785b4eb86"
   },
   "outputs": [
    {
     "data": {
      "text/html": [
       "<div>\n",
       "<style scoped>\n",
       "    .dataframe tbody tr th:only-of-type {\n",
       "        vertical-align: middle;\n",
       "    }\n",
       "\n",
       "    .dataframe tbody tr th {\n",
       "        vertical-align: top;\n",
       "    }\n",
       "\n",
       "    .dataframe thead th {\n",
       "        text-align: right;\n",
       "    }\n",
       "</style>\n",
       "<table border=\"1\" class=\"dataframe\">\n",
       "  <thead>\n",
       "    <tr style=\"text-align: right;\">\n",
       "      <th></th>\n",
       "      <th>ArticleTitle</th>\n",
       "      <th>Question</th>\n",
       "      <th>Answer</th>\n",
       "      <th>ArticleText</th>\n",
       "    </tr>\n",
       "  </thead>\n",
       "  <tbody>\n",
       "    <tr>\n",
       "      <th>0</th>\n",
       "      <td>Abraham_Lincoln</td>\n",
       "      <td>was abraham lincoln the sixteenth president of...</td>\n",
       "      <td>yes</td>\n",
       "      <td>abraham lincoln. abraham lincoln february 12 1...</td>\n",
       "    </tr>\n",
       "    <tr>\n",
       "      <th>1</th>\n",
       "      <td>Abraham_Lincoln</td>\n",
       "      <td>was abraham lincoln the sixteenth president of...</td>\n",
       "      <td>yes</td>\n",
       "      <td>abraham lincoln. abraham lincoln february 12 1...</td>\n",
       "    </tr>\n",
       "    <tr>\n",
       "      <th>2</th>\n",
       "      <td>Abraham_Lincoln</td>\n",
       "      <td>did lincoln sign the national banking act of 1863</td>\n",
       "      <td>yes</td>\n",
       "      <td>abraham lincoln. abraham lincoln february 12 1...</td>\n",
       "    </tr>\n",
       "    <tr>\n",
       "      <th>3</th>\n",
       "      <td>Abraham_Lincoln</td>\n",
       "      <td>did lincoln sign the national banking act of 1863</td>\n",
       "      <td>yes</td>\n",
       "      <td>abraham lincoln. abraham lincoln february 12 1...</td>\n",
       "    </tr>\n",
       "    <tr>\n",
       "      <th>4</th>\n",
       "      <td>Abraham_Lincoln</td>\n",
       "      <td>did his mother die of pneumonia</td>\n",
       "      <td>no</td>\n",
       "      <td>abraham lincoln. abraham lincoln february 12 1...</td>\n",
       "    </tr>\n",
       "    <tr>\n",
       "      <th>...</th>\n",
       "      <td>...</td>\n",
       "      <td>...</td>\n",
       "      <td>...</td>\n",
       "      <td>...</td>\n",
       "    </tr>\n",
       "    <tr>\n",
       "      <th>1452</th>\n",
       "      <td>Zebra</td>\n",
       "      <td>what areas do the grevys zebras inhabit</td>\n",
       "      <td>semiarid grasslands of ethiopia and northern k...</td>\n",
       "      <td>zebra. plains zebra. grevys zebra. zebras are ...</td>\n",
       "    </tr>\n",
       "    <tr>\n",
       "      <th>1454</th>\n",
       "      <td>Zebra</td>\n",
       "      <td>which species of zebra is known as the common ...</td>\n",
       "      <td>plains zebra equus quagga formerly equus burch...</td>\n",
       "      <td>zebra. plains zebra. grevys zebra. zebras are ...</td>\n",
       "    </tr>\n",
       "    <tr>\n",
       "      <th>1455</th>\n",
       "      <td>Zebra</td>\n",
       "      <td>which species of zebra is known as the common ...</td>\n",
       "      <td>plains zebra</td>\n",
       "      <td>zebra. plains zebra. grevys zebra. zebras are ...</td>\n",
       "    </tr>\n",
       "    <tr>\n",
       "      <th>1456</th>\n",
       "      <td>Zebra</td>\n",
       "      <td>at what age can a zebra breed</td>\n",
       "      <td>five or six</td>\n",
       "      <td>zebra. plains zebra. grevys zebra. zebras are ...</td>\n",
       "    </tr>\n",
       "    <tr>\n",
       "      <th>1457</th>\n",
       "      <td>Zebra</td>\n",
       "      <td>at what age can a zebra breed</td>\n",
       "      <td>5 or 6</td>\n",
       "      <td>zebra. plains zebra. grevys zebra. zebras are ...</td>\n",
       "    </tr>\n",
       "  </tbody>\n",
       "</table>\n",
       "<p>3420 rows × 4 columns</p>\n",
       "</div>"
      ],
      "text/plain": [
       "         ArticleTitle  ...                                        ArticleText\n",
       "0     Abraham_Lincoln  ...  abraham lincoln. abraham lincoln february 12 1...\n",
       "1     Abraham_Lincoln  ...  abraham lincoln. abraham lincoln february 12 1...\n",
       "2     Abraham_Lincoln  ...  abraham lincoln. abraham lincoln february 12 1...\n",
       "3     Abraham_Lincoln  ...  abraham lincoln. abraham lincoln february 12 1...\n",
       "4     Abraham_Lincoln  ...  abraham lincoln. abraham lincoln february 12 1...\n",
       "...               ...  ...                                                ...\n",
       "1452            Zebra  ...  zebra. plains zebra. grevys zebra. zebras are ...\n",
       "1454            Zebra  ...  zebra. plains zebra. grevys zebra. zebras are ...\n",
       "1455            Zebra  ...  zebra. plains zebra. grevys zebra. zebras are ...\n",
       "1456            Zebra  ...  zebra. plains zebra. grevys zebra. zebras are ...\n",
       "1457            Zebra  ...  zebra. plains zebra. grevys zebra. zebras are ...\n",
       "\n",
       "[3420 rows x 4 columns]"
      ]
     },
     "execution_count": 10,
     "metadata": {
      "tags": []
     },
     "output_type": "execute_result"
    }
   ],
   "source": [
    "df['Question'] = df['Question'].apply(lambda x: cleanQuestion(x))\n",
    "df['Answer'] = df['Answer'].apply(lambda x: cleanAnswer(x))\n",
    "df['ArticleText'] = df['ArticleText'].apply(lambda x: cleanText(x))\n",
    "df"
   ]
  },
  {
   "cell_type": "code",
   "execution_count": null,
   "metadata": {
    "id": "tKmGfZkOi4Sg"
   },
   "outputs": [],
   "source": [
    "# Preparing data for training\n",
    "allQuestion = '. '.join(list(df['Question']))\n",
    "allAnswer = '. '.join(list(df['Answer']))\n",
    "allContext = '. '.join(list(df['ArticleText']))\n",
    "text = allQuestion + allAnswer + allContext\n",
    "s = SplitIndexedList(text.split('.'))"
   ]
  },
  {
   "cell_type": "markdown",
   "metadata": {
    "id": "yzlxMm3ijoVm"
   },
   "source": [
    "## **Word2Vec**"
   ]
  },
  {
   "cell_type": "code",
   "execution_count": null,
   "metadata": {
    "id": "eZ8ifZVXjJJa"
   },
   "outputs": [],
   "source": [
    "dataset = []\n",
    "title = \"\"\n",
    "for i in range(0, len(df), 2):\n",
    "    this_title = df.iloc[i]['ArticleTitle']\n",
    "    if (this_title!=title):\n",
    "        title = this_title\n",
    "        text = df.iloc[i]['ArticleText']\n",
    "        splitted = text.split(sep='.')\n",
    "        for j in range(len(splitted)):\n",
    "            text = splitted[j]\n",
    "            if(text!=''):\n",
    "                words = text.split()\n",
    "                dataset.append(words)\n",
    "    dataset.append(df.iloc[i]['Question'].split())\n",
    "    dataset.append(df.iloc[i]['Answer'].split())"
   ]
  },
  {
   "cell_type": "code",
   "execution_count": null,
   "metadata": {
    "id": "4HV0tiRanYCA"
   },
   "outputs": [],
   "source": [
    "model_wv = gensim.models.Word2Vec(dataset, size=100, window=8, min_count=1, sg=0, workers=8) # I have 8 cpu cores\n",
    "# sg = {0, 1} – Training algorithm: 1 for skip-gram; otherwise CBOW"
   ]
  },
  {
   "cell_type": "code",
   "execution_count": null,
   "metadata": {
    "colab": {
     "base_uri": "https://localhost:8080/"
    },
    "id": "L4XP5-bWnZzE",
    "outputId": "eb3fc5d7-38da-46f5-bd56-20baf15858fa"
   },
   "outputs": [
    {
     "data": {
      "text/plain": [
       "(24639179, 31115900)"
      ]
     },
     "execution_count": 14,
     "metadata": {
      "tags": []
     },
     "output_type": "execute_result"
    }
   ],
   "source": [
    "model_wv.train(dataset, total_examples=len(dataset), compute_loss=True, epochs=50)"
   ]
  },
  {
   "cell_type": "code",
   "execution_count": null,
   "metadata": {
    "id": "j0AGhAwinbaz"
   },
   "outputs": [],
   "source": [
    "def get_embedding(sentence):\n",
    "  pos_sum = [0.0 for i in range(100)]\n",
    "  num = 0\n",
    "  words = sentence.split()\n",
    "  for i in words:\n",
    "    try:\n",
    "      embed = model_wv.wv[i]\n",
    "    except:\n",
    "      continue\n",
    "    else:\n",
    "      pos_sum += embed\n",
    "      num +=1\n",
    "  if(num==0):\n",
    "    return pos_sum\n",
    "  else:\n",
    "    pos_sum /= num\n",
    "    return pos_sum\n",
    "\n",
    "# get answer using euclidean distance\n",
    "def get_answer(question, answer_para):\n",
    "  question_embedding = get_embedding(rem_stop(question))\n",
    "  min_distance = math.inf\n",
    "  answer = 0\n",
    "  for i in range(len(answer_para)):\n",
    "    answer_embedding = get_embedding(rem_stop(answer_para[i]))\n",
    "    distance = np.linalg.norm(question_embedding-answer_embedding)\n",
    "    if (distance < min_distance):\n",
    "      answer = i\n",
    "      # print(answer)\n",
    "      min_distance = distance\n",
    "  return answer_para[answer]\n",
    "\n",
    "def rem_stop(sentence):\n",
    "    strr=''\n",
    "    my_string = sentence.split()\n",
    "    for i in range(len(my_string)):\n",
    "        if my_string[i] not in stopwords.words('english'):\n",
    "            strr = strr+' '+my_string[i]\n",
    "    return strr[1:]\n",
    "\n",
    "# get answer using cosine similarity\n",
    "def get_answer_cosine(question, answer_para):\n",
    "  question_embedding = get_embedding(rem_stop(question))\n",
    "  max_similarity = -math.inf\n",
    "  answer = 0\n",
    "  for i in range(len(answer_para)):\n",
    "    answer_embedding = get_embedding(rem_stop(answer_para[i]))\n",
    "    similarity = cosine_similarity(np.expand_dims(question_embedding,0), np.expand_dims(answer_embedding,0))\n",
    "    if (similarity > max_similarity):\n",
    "      answer = i\n",
    "      max_similarity = similarity\n",
    "  return answer_para[answer]"
   ]
  },
  {
   "cell_type": "code",
   "execution_count": null,
   "metadata": {
    "id": "_qWxvJ70ndwu"
   },
   "outputs": [],
   "source": [
    "index = 296\n",
    "my_text = df.iloc[index]['ArticleText']\n",
    "temp_sentences = my_text.split(sep='.')\n",
    "sentences=[]\n",
    "for i in range(len(temp_sentences)):\n",
    "    if(temp_sentences[i]!=''):\n",
    "        sentences.append(temp_sentences[i])\n",
    "my_question = df.iloc[index]['Question']\n",
    "\n",
    "# Function to break up article text into individual sentences\n",
    "def contextToSents(my_text):\n",
    "  temp_sentences = my_text.split(sep='.')\n",
    "  sentences=[]\n",
    "  for i in range(len(temp_sentences)):\n",
    "      if(temp_sentences[i]!=''):\n",
    "          sentences.append(temp_sentences[i])\n",
    "  return sentences"
   ]
  },
  {
   "cell_type": "code",
   "execution_count": null,
   "metadata": {
    "colab": {
     "base_uri": "https://localhost:8080/"
    },
    "id": "5CjyVzT2nf-R",
    "outputId": "e1dd08d1-f8e8-456b-b3c3-f73e14b03007"
   },
   "outputs": [
    {
     "name": "stdout",
     "output_type": "stream",
     "text": [
      "are there a large number of jews living in egypt today\n",
      "large number jews living egypt today\n",
      "no\n",
      " the oncevibrant jewish community in egypt has virtually disappeared with only a small number remaining in the country but many egyptian jews visit on religious occasions and for tourism\n",
      "\n",
      "\n",
      " the oncevibrant jewish community in egypt has virtually disappeared with only a small number remaining in the country but many egyptian jews visit on religious occasions and for tourism\n"
     ]
    }
   ],
   "source": [
    "# Word2Vec outputs\n",
    "print(my_question) # Actual Question\n",
    "print(rem_stop(my_question)) # Answer without stopwords\n",
    "print(df.iloc[index]['Answer']) # Actual Answer\n",
    "print(get_answer(my_question, sentences)) # Our model's prediction using euclidean distance\n",
    "print(\"\\n\")\n",
    "print(get_answer_cosine(my_question, sentences)) # Our model's prediction using cosine similarity"
   ]
  },
  {
   "cell_type": "markdown",
   "metadata": {
    "id": "Q7ipSnbUjs_M"
   },
   "source": [
    "## **SIF Embedding**"
   ]
  },
  {
   "cell_type": "code",
   "execution_count": null,
   "metadata": {
    "id": "jap2--tvkB-N"
   },
   "outputs": [],
   "source": [
    "from fse.models import uSIF\n",
    "glove = api.load(\"glove-wiki-gigaword-100\")\n",
    "model_sif = uSIF(glove, workers=2, lang_freq=\"en\")"
   ]
  },
  {
   "cell_type": "code",
   "execution_count": null,
   "metadata": {
    "colab": {
     "base_uri": "https://localhost:8080/"
    },
    "id": "LVnbzCO9kFXD",
    "outputId": "7327c1bb-c6e1-40dc-ce3f-f0ec3a4fb0b4"
   },
   "outputs": [
    {
     "data": {
      "text/plain": [
       "(1030300, 15797240)"
      ]
     },
     "execution_count": 21,
     "metadata": {
      "tags": []
     },
     "output_type": "execute_result"
    }
   ],
   "source": [
    "model_sif.train(s)"
   ]
  },
  {
   "cell_type": "code",
   "execution_count": null,
   "metadata": {
    "colab": {
     "base_uri": "https://localhost:8080/"
    },
    "id": "f39fFAmlkU2C",
    "outputId": "f35f051d-a366-4023-b88c-aa2f2e355ff9"
   },
   "outputs": [
    {
     "name": "stdout",
     "output_type": "stream",
     "text": [
      "[[0.5020677]]\n",
      "[[0.3415572]]\n",
      "[[0.16029494]]\n"
     ]
    }
   ],
   "source": [
    "q = 'was abraham lincoln the sixteenth president of the united states'\n",
    "c1 = 'Abraham Lincoln (February 12, 1809 – April 15, 1865) was the sixteenth President of the United States, serving from March 4, 1861 until his assassination.'\n",
    "c2 = 'Scholars now rank Lincoln among the top three U.S. Presidents, with the majority of those surveyed placing him first.'\n",
    "c3 = 'Symbolic log cabin at Abraham Lincoln Birthplace National Historic Site.'\n",
    "\n",
    "tmpq = (q.split(), 0)\n",
    "tmpc1 = (c1.split(), 0)\n",
    "tmpc2 = (c2.split(), 0)\n",
    "tmpc3 = (c3.split(), 0)\n",
    "\n",
    "print(metrics.pairwise.cosine_similarity(model_sif.infer([tmpq]), model_sif.infer([tmpc1])))\n",
    "print(metrics.pairwise.cosine_similarity(model_sif.infer([tmpq]), model_sif.infer([tmpc2])))\n",
    "print(metrics.pairwise.cosine_similarity(model_sif.infer([tmpq]), model_sif.infer([tmpc3])))"
   ]
  },
  {
   "cell_type": "code",
   "execution_count": null,
   "metadata": {
    "id": "fQ2mTWZLkdDY"
   },
   "outputs": [],
   "source": [
    "def getSim(q, x):\n",
    "  x = (str(x).split(), 0)\n",
    "  sim = metrics.pairwise.cosine_similarity(model_sif.infer([q]), model_sif.infer([x]))\n",
    "  return sim\n",
    "\n",
    "def getAnswer(question, context):\n",
    "  q = (str(question).split(), 0)\n",
    "  c = pd.DataFrame(str(context).split('.'))\n",
    "  c['sim'] = c[0].apply(lambda x: getSim(q, x))\n",
    "  max = c.sort_values(by='sim', ascending=False).iloc[:3]\n",
    "  return max\n",
    "\n",
    "def getBestAnswer(question, potentials):\n",
    "  q = (str(question).split(), 0)\n",
    "  c = pd.DataFrame(potentials)\n",
    "  c['sim'] = c[0].apply(lambda x: getSim(q, x))\n",
    "  max = c.sort_values(by='sim', ascending=False).iloc[:3]\n",
    "  return max[0]"
   ]
  },
  {
   "cell_type": "code",
   "execution_count": null,
   "metadata": {
    "colab": {
     "base_uri": "https://localhost:8080/"
    },
    "id": "QIVXyzmQkfmU",
    "outputId": "adde4b38-8a86-4deb-eedc-0c09b5889aac"
   },
   "outputs": [
    {
     "name": "stdout",
     "output_type": "stream",
     "text": [
      "Question:  is foie gras often made from ducks\n",
      "Top Solutions: \n",
      "\n",
      "                                                                                                     0             sim\n",
      "57   foie gras is often made using the liver of domestic ducks rather than of geese                     [[0.9069501]] \n",
      "51   ducks have many economic uses being farmed for their meat eggs feathers particularly their down    [[0.6085277]] \n",
      "53   all domestic ducks are descended from the wild mallard anas platyrhynchos except the muscovy duck  [[0.60743153]]\n"
     ]
    }
   ],
   "source": [
    "qno = 250\n",
    "print('Question: ', df['Question'].iloc[qno])\n",
    "print('Top Solutions: \\n')\n",
    "print(getAnswer(df['Question'].iloc[qno], df['ArticleText'].iloc[qno]))"
   ]
  },
  {
   "cell_type": "code",
   "execution_count": null,
   "metadata": {
    "colab": {
     "base_uri": "https://localhost:8080/"
    },
    "id": "3hsnVAHFkjOD",
    "outputId": "b8dfa2b3-d5e0-48b8-92ee-465b9c238799"
   },
   "outputs": [
    {
     "name": "stdout",
     "output_type": "stream",
     "text": [
      "Question:  was anders celsius november 27 1701 april 25 1744 a swedish astronomer\n",
      "Top Solutions: \n",
      "\n",
      "                                                                                                                                                                          0             sim\n",
      "4    anders celsius november 27 1701 april 25 1744 was a swedish astronomer                                                                                                  [[1.0000002]] \n",
      "6    celsius was born in uppsala in sweden                                                                                                                                   [[0.6480346]] \n",
      "12   celsius founded the uppsala astronomical observatory in 1741 and in 1742 he proposed the celsius temperature scale in a paper to the royal swedish academy of sciences  [[0.62718296]]\n"
     ]
    }
   ],
   "source": [
    "qno = 67\n",
    "print('Question: ', df['Question'].iloc[qno])\n",
    "print('Top Solutions: \\n')\n",
    "sol = getAnswer(df['Question'].iloc[qno], df['ArticleText'].iloc[qno])\n",
    "print(sol)"
   ]
  },
  {
   "cell_type": "markdown",
   "metadata": {
    "id": "tYydaVRikuzr"
   },
   "source": [
    "## **BERT with SIF**"
   ]
  },
  {
   "cell_type": "code",
   "execution_count": null,
   "metadata": {
    "colab": {
     "base_uri": "https://localhost:8080/",
     "height": 163,
     "referenced_widgets": [
      "bd22de98c71a43f7901521fc1a511ed3",
      "0a97387e3e7f45cda4ab40b9f9ed8523",
      "c28f498223b34fd6a08149e9053b4c9d",
      "6f1f8cbbfd6a4a1baa01bfc767180345",
      "4e17ba1a605b49c6a18a78a320e0d961",
      "6f65c2eb4bce40558e22a6ba5b195502",
      "ebe25a0f779d47cf940cf16fd3e3cba5",
      "221e597b78714b0ca1e1912d3ffad110",
      "31752e608182413c931e810a9f19f1d7",
      "598ae050c3a043b0bc19254f38a244d4",
      "d946375851f74a05afb56111817483ad",
      "4bdfe15ed6d341aca27a5ddff4fb1b15",
      "ec33b0ee57744ce7a2147bcd962dfdba",
      "6c6530f2c6a04892aa373ddd6292ac08",
      "458b2eea98d641ed85493cdbdc28cf73",
      "0a5acc04034c4282be2a23c1bc233abf",
      "16628ff6cf664289b97f5832e47f13c1",
      "36bfa944fa0f4db594e0c734b47d75df",
      "6d2c3188c76a443a9e12c8e54825d845",
      "3dcb39b110ad4a2cab3a3fa313736d24",
      "f1e56a3d4f04478aa865f758989a5fde",
      "49deb7315cde427b88f2947e5fd3b4a7",
      "1d4884b3f1ce41e4b4fc744dc4fa4ba1",
      "272c913393614ce48e62c3ed76bc05e4"
     ]
    },
    "id": "kU1YwGRXloRT",
    "outputId": "fde3e651-c7b8-4b32-d087-8715681b109b"
   },
   "outputs": [
    {
     "data": {
      "application/vnd.jupyter.widget-view+json": {
       "model_id": "bd22de98c71a43f7901521fc1a511ed3",
       "version_major": 2,
       "version_minor": 0
      },
      "text/plain": [
       "HBox(children=(FloatProgress(value=0.0, description='Downloading', max=231508.0, style=ProgressStyle(descripti…"
      ]
     },
     "metadata": {
      "tags": []
     },
     "output_type": "display_data"
    },
    {
     "name": "stdout",
     "output_type": "stream",
     "text": [
      "\n"
     ]
    },
    {
     "data": {
      "application/vnd.jupyter.widget-view+json": {
       "model_id": "31752e608182413c931e810a9f19f1d7",
       "version_major": 2,
       "version_minor": 0
      },
      "text/plain": [
       "HBox(children=(FloatProgress(value=0.0, description='Downloading', max=443.0, style=ProgressStyle(description_…"
      ]
     },
     "metadata": {
      "tags": []
     },
     "output_type": "display_data"
    },
    {
     "name": "stdout",
     "output_type": "stream",
     "text": [
      "\n"
     ]
    },
    {
     "data": {
      "application/vnd.jupyter.widget-view+json": {
       "model_id": "16628ff6cf664289b97f5832e47f13c1",
       "version_major": 2,
       "version_minor": 0
      },
      "text/plain": [
       "HBox(children=(FloatProgress(value=0.0, description='Downloading', max=1340675298.0, style=ProgressStyle(descr…"
      ]
     },
     "metadata": {
      "tags": []
     },
     "output_type": "display_data"
    },
    {
     "name": "stdout",
     "output_type": "stream",
     "text": [
      "\n"
     ]
    }
   ],
   "source": [
    "use_cuda = True\n",
    "tokenizer = BertTokenizer.from_pretrained('bert-large-uncased-whole-word-masking-finetuned-squad')\n",
    "model_bert = BertForQuestionAnswering.from_pretrained('bert-large-uncased-whole-word-masking-finetuned-squad')"
   ]
  },
  {
   "cell_type": "code",
   "execution_count": null,
   "metadata": {
    "id": "X6UsMts0lpoH"
   },
   "outputs": [],
   "source": [
    "def getGraph(start_scores, end_scores, tokens):\n",
    "\n",
    "  # x-axis: unique tokens\n",
    "  # y-axis: start word score for each token\n",
    "\n",
    "  # Pull the scores from Tensors and convert to 1-D np arrays\n",
    "  start_scores = start_scores.detach().numpy().flatten()\n",
    "  end_scores = end_scores.detach().numpy().flatten()\n",
    "\n",
    "  # We add unique token index to each token\n",
    "  token_label = list()\n",
    "  for (i, t) in enumerate(tokens):\n",
    "      token_label.append('{:} - {:>2}'.format(t, i))\n",
    "\n",
    "  # Plot Graph\n",
    "  sns.set(style='darkgrid')\n",
    "  plt.rcParams[\"figure.figsize\"] = (24,8)\n",
    "  ax = sns.barplot(x=token_labels, y=s_scores, ci=None)\n",
    "  ax.set_xticklabels(ax.get_xticklabels(), rotation=90, ha=\"center\")\n",
    "  ax.grid(True)\n",
    "  plt.title('Start Word Scores for Each unique Token in Context')\n",
    "  plt.show()"
   ]
  },
  {
   "cell_type": "code",
   "execution_count": null,
   "metadata": {
    "colab": {
     "base_uri": "https://localhost:8080/"
    },
    "id": "CCzyccb0lrYI",
    "outputId": "22b44551-47b5-4ad7-851c-098f74a1e01c"
   },
   "outputs": [
    {
     "data": {
      "text/plain": [
       "(3420, 14845432)"
      ]
     },
     "execution_count": 30,
     "metadata": {
      "tags": []
     },
     "output_type": "execute_result"
    }
   ],
   "source": [
    "model_sif.train(SplitIndexedList(list(df['ArticleText'])))"
   ]
  },
  {
   "cell_type": "code",
   "execution_count": null,
   "metadata": {
    "id": "8lHfMskFl5tG"
   },
   "outputs": [],
   "source": [
    "def get_split(text1):\n",
    "  chunk_size = 512\n",
    "  for i in range(0, len(list_a), chunk_size):\n",
    "    yield list_a[i:i + chunk_size]"
   ]
  },
  {
   "cell_type": "code",
   "execution_count": null,
   "metadata": {
    "id": "SPjN_KK4mFU_"
   },
   "outputs": [],
   "source": [
    "def getAnswerBert(question, context):\n",
    "\n",
    "  # print('Query Context has {} tokens.'.format(len(tokenizer.encode(context))))\n",
    "\n",
    "  context_list = get_split(context)\n",
    "\n",
    "  ans = []\n",
    "\n",
    "  for c in context_list:\n",
    "\n",
    "    encoding = tokenizer.encode_plus(text=question,text_pair=c)\n",
    "\n",
    "    inputs = encoding['input_ids']  #Token embeddings\n",
    "    token_type_id = encoding['token_type_ids']  #Segment embeddings\n",
    "    tokens = tokenizer.convert_ids_to_tokens(inputs) #input tokens\n",
    "\n",
    "    output = model_bert(input_ids=torch.tensor([inputs]), token_type_ids=torch.tensor([token_type_id]))\n",
    "    start_index = torch.argmax(output.start_logits)\n",
    "    end_index = torch.argmax(output.end_logits)\n",
    "\n",
    "    answer = ' '.join(tokens[start_index:end_index+1])\n",
    "\n",
    "    ans.append(answer)\n",
    "  print('Question: ', question)\n",
    "\n",
    "  potentials = []\n",
    "  for i in ans:\n",
    "    if ('SEP' not in i) and ('CLS' not in i):\n",
    "      potentials.append(re.sub('(#)+', '', i))\n",
    "\n",
    "  answer = getBestAnswer(question, potentials)\n",
    "\n",
    "  # print('Potential Answers: \\n')\n",
    "  # print(answer.head())\n",
    "  return answer"
   ]
  },
  {
   "cell_type": "code",
   "execution_count": null,
   "metadata": {
    "colab": {
     "base_uri": "https://localhost:8080/"
    },
    "id": "_0k8ZgBLmGeq",
    "outputId": "27bd7523-f3c3-4a2a-c022-f89704ecaef1"
   },
   "outputs": [
    {
     "name": "stdout",
     "output_type": "stream",
     "text": [
      "Question:  in 1905 coolidge met and married whom\n",
      "Potential Answers: \n",
      "\n",
      "0    grace anna good hue\n",
      "1    grace anna good hue\n",
      "2                  grace\n",
      "Name: 0, dtype: object\n",
      "Actual Answer:  grace anna goodhue\n"
     ]
    }
   ],
   "source": [
    "print(getAnswerBert(df['Question'].iloc[171], df['ArticleText'].iloc[171]))\n",
    "print('Actual Answer: ', df['Answer'].iloc[171])"
   ]
  },
  {
   "cell_type": "code",
   "execution_count": null,
   "metadata": {
    "colab": {
     "base_uri": "https://localhost:8080/"
    },
    "id": "QUWSx6kjmPvj",
    "outputId": "34b574e3-7296-45ed-fb66-7008dc834779"
   },
   "outputs": [
    {
     "name": "stdout",
     "output_type": "stream",
     "text": [
      "Question:  what kind of ducks feed on land\n",
      "0    da bbling ducks\n",
      "1          da bbling\n",
      "Name: 0, dtype: object\n",
      "Actual Answer:  dabbling ducks feed on land\n"
     ]
    }
   ],
   "source": [
    "print(getAnswerBert(df['Question'].iloc[255], df['ArticleText'].iloc[255]))\n",
    "print('Actual Answer: ', df['Answer'].iloc[255])"
   ]
  },
  {
   "cell_type": "markdown",
   "metadata": {
    "id": "6h9S2iOKmTYJ"
   },
   "source": [
    "## **Comparision**"
   ]
  },
  {
   "cell_type": "code",
   "execution_count": null,
   "metadata": {
    "colab": {
     "base_uri": "https://localhost:8080/"
    },
    "id": "8Tz2-zvVDfZI",
    "outputId": "34bafe7e-01ed-4059-9b7e-bb2d362c385a"
   },
   "outputs": [
    {
     "name": "stdout",
     "output_type": "stream",
     "text": [
      "Mounted at /content/gdrive\n"
     ]
    }
   ],
   "source": [
    "from google.colab import drive\n",
    "drive.mount('/content/gdrive')"
   ]
  },
  {
   "cell_type": "code",
   "execution_count": null,
   "metadata": {
    "id": "c1JQkmCymWAU"
   },
   "outputs": [],
   "source": [
    "# Function to compare all 3 of our models\n",
    "\n",
    "def compare(indexes):\n",
    "  wv_sim = []\n",
    "  sif_sim = []\n",
    "  bert_sim = []\n",
    "  for i in indexes:\n",
    "    question = df.iloc[i]['Question']\n",
    "    context = df.iloc[i]['ArticleText']\n",
    "    answer = df.iloc[i]['Answer']\n",
    "\n",
    "    if ('yes' in answer.lower()) or ('no' in answer.lower()):\n",
    "      continue\n",
    "\n",
    "    ans_sif = model_sif.infer([((answer).split(), 0)])\n",
    "\n",
    "    w = metrics.pairwise.cosine_similarity(model_sif.infer([((get_answer_cosine(question, contextToSents(context))).split(), 0)]), ans_sif)\n",
    "    s = metrics.pairwise.cosine_similarity(model_sif.infer([((getAnswer(question, context).iloc[0][0]).split(), 0)]), ans_sif)\n",
    "\n",
    "    b_ans = getAnswerBert(question, context)\n",
    "    b = metrics.pairwise.cosine_similarity(model_sif.infer([((b_ans[b_ans.keys()[0]]).split(), 0)]), ans_sif)\n",
    "\n",
    "    wv_sim.append(w)\n",
    "    sif_sim.append(s)\n",
    "    bert_sim.append(b)\n",
    "\n",
    "  print('WV:', wv_sim)\n",
    "  print('SIF:', sif_sim)\n",
    "  print('BERT:', bert_sim)\n",
    "\n",
    "  return wv_sim, sif_sim, bert_sim"
   ]
  },
  {
   "cell_type": "code",
   "execution_count": null,
   "metadata": {
    "id": "PtapMjBG6LPw"
   },
   "outputs": [],
   "source": [
    "# Function to compare all 3 of our models visually\n",
    "def visualise(i):\n",
    "\n",
    "  question = df.iloc[i]['Question']\n",
    "  context = df.iloc[i]['ArticleText']\n",
    "  answer = df.iloc[i]['Answer']\n",
    "\n",
    "  w_ans = get_answer_cosine(question, contextToSents(context))\n",
    "  s_ans = getAnswer(question, context).iloc[0][0]\n",
    "  b_ans = getAnswerBert(question, context)\n",
    "\n",
    "  print('Question: ', question)\n",
    "  print('Real: ', answer)\n",
    "  print('WV: ', w_ans)\n",
    "  print('SIF: ', s_ans)\n",
    "  print('BERT: ', b_ans[b_ans.keys()[0]])"
   ]
  },
  {
   "cell_type": "code",
   "execution_count": null,
   "metadata": {
    "colab": {
     "base_uri": "https://localhost:8080/"
    },
    "id": "77vf0eCf9aPJ",
    "outputId": "f8a2b656-9e0b-490a-bd32-3b760bf9f527"
   },
   "outputs": [
    {
     "name": "stdout",
     "output_type": "stream",
     "text": [
      "Question:  did coolidge graduate from black river academy\n",
      "Question:  did coolidge graduate from black river academy\n",
      "Real:  yes\n",
      "WV:   coolidge graduated from black river academy vermont but failed his initial entrance exam to amherst college\n",
      "SIF:   coolidge graduated from black river academy vermont but failed his initial entrance exam to amherst college\n",
      "BERT:  cool idge graduated from black river academy vermont\n"
     ]
    }
   ],
   "source": [
    "visualise(130)"
   ]
  },
  {
   "cell_type": "code",
   "execution_count": null,
   "metadata": {
    "colab": {
     "base_uri": "https://localhost:8080/"
    },
    "id": "cFypQM0n-MC2",
    "outputId": "4d4060b1-f53a-49ff-cd4a-d794e4cce77b"
   },
   "outputs": [
    {
     "name": "stdout",
     "output_type": "stream",
     "text": [
      "Question:  do all ducks quack\n",
      "Question:  do all ducks quack\n",
      "Real:  no\n",
      "WV:   diving ducks and sea ducks forage deep underwater\n",
      "SIF:   as aforementioned though very few ducks actually do quack\n",
      "BERT:  most ducks other than female mall ards and domestic ducks do not qu ack\n"
     ]
    }
   ],
   "source": [
    "visualise(234)"
   ]
  },
  {
   "cell_type": "code",
   "execution_count": null,
   "metadata": {
    "colab": {
     "base_uri": "https://localhost:8080/"
    },
    "id": "AF-TryFA-MO8",
    "outputId": "7fd8d307-c6f6-46ac-d4b1-417c5cf83641"
   },
   "outputs": [
    {
     "name": "stdout",
     "output_type": "stream",
     "text": [
      "Question:  how has canada helped un peacekeeping efforts\n",
      "Question:  how has canada helped un peacekeeping efforts\n",
      "Real:  during the suez crisis of 1956 lester b pearson eased tensions by proposing the inception of the united nations peacekeeping force canada has since served in 50 peacekeeping missions including every un peacekeeping effort until 1989\n",
      "WV:   canada has played a leading role in un peacekeeping efforts\n",
      "SIF:   canada has played a leading role in un peacekeeping efforts\n",
      "BERT:  canada has played a leading role in un peacekeeping efforts\n"
     ]
    }
   ],
   "source": [
    "visualise(192)"
   ]
  },
  {
   "cell_type": "code",
   "execution_count": null,
   "metadata": {
    "colab": {
     "base_uri": "https://localhost:8080/"
    },
    "id": "eB0XIj5dGRCT",
    "outputId": "0a586368-5b14-423a-eddd-46ddc4935f3e"
   },
   "outputs": [
    {
     "name": "stdout",
     "output_type": "stream",
     "text": [
      "Question:  what are four species that are commonly referred to as kangaroos\n",
      "Question:  what are four species that are commonly referred to as kangaroos\n",
      "Real:  the red kangaroo the eastern grey kangaroo the western grey kangaroo and the antilopine kangaroo\n",
      "WV:   there are four species that are commonly referred to as kangaroos\n",
      "SIF:   there are four species that are commonly referred to as kangaroos\n",
      "BERT:  the red kangaroo the anti lo pine kangaroo and the eastern and western grey kangaroo\n"
     ]
    }
   ],
   "source": [
    "visualise(777)"
   ]
  },
  {
   "cell_type": "code",
   "execution_count": null,
   "metadata": {
    "colab": {
     "base_uri": "https://localhost:8080/"
    },
    "id": "kUY02HX8GRGF",
    "outputId": "684fb500-90dd-44a8-b985-97fa6b89b23e"
   },
   "outputs": [
    {
     "name": "stdout",
     "output_type": "stream",
     "text": [
      "Question:  when did james monroe introduce the monroe doctrine\n",
      "Question:  when did james monroe introduce the monroe doctrine\n",
      "Real:  december 2 1823\n",
      "WV:   monroe james\n",
      "SIF:   monroe james\n",
      "BERT:  some 20 years after monroe died in 1831\n"
     ]
    }
   ],
   "source": [
    "visualise(666)"
   ]
  },
  {
   "cell_type": "code",
   "execution_count": null,
   "metadata": {
    "colab": {
     "base_uri": "https://localhost:8080/"
    },
    "id": "spCFOmMQGRKD",
    "outputId": "1b0b2e67-67c5-461f-b517-05b6cdcc80bf"
   },
   "outputs": [
    {
     "name": "stdout",
     "output_type": "stream",
     "text": [
      "Question:  why did cleveland want to hide his cancer surgery from the public\n",
      "Question:  why did cleveland want to hide his cancer surgery from the public\n",
      "Real:  because of the financial depression of the country\n",
      "WV:   the public treasury\n",
      "SIF:   because of the financial depression of the country cleveland decided to have surgery performed on the tumor in secrecy to avoid further market panic\n",
      "BERT:  financial depression of the country cleveland decided to have surgery performed on the tumor in secrecy to avoid further market panic\n"
     ]
    }
   ],
   "source": [
    "visualise(555)"
   ]
  },
  {
   "cell_type": "code",
   "execution_count": null,
   "metadata": {
    "colab": {
     "base_uri": "https://localhost:8080/"
    },
    "id": "ECUvPNUy-MWb",
    "outputId": "e6007790-b4c2-44a3-c2d1-6f1a3eedc00a"
   },
   "outputs": [
    {
     "name": "stdout",
     "output_type": "stream",
     "text": [
      "Question:  what established a trading post on the island in 1819\n",
      "Question:  what established a trading post on the island in 1819\n",
      "Real:  british east india company\n",
      "WV:   the british east india company established a trading post on the island in 1819\n",
      "SIF:   the british east india company established a trading post on the island in 1819\n",
      "BERT:  british east india company\n"
     ]
    }
   ],
   "source": [
    "visualise(1222)"
   ]
  },
  {
   "cell_type": "code",
   "execution_count": null,
   "metadata": {
    "colab": {
     "base_uri": "https://localhost:8080/"
    },
    "id": "kYbQ3-eA-MZy",
    "outputId": "3cc175b0-d99f-4cb9-da77-8986543a361e"
   },
   "outputs": [
    {
     "name": "stdout",
     "output_type": "stream",
     "text": [
      "Question:  how do elephants communicate over long distances\n",
      "Question:  how do elephants communicate over long distances\n",
      "Real:  by producing and receiving lowfrequency sound infrasound\n",
      "WV:   elephants have a very long childhood\n",
      "SIF:   it is believed that sound communication between elephants on large distances through the ground is important in their social lives and elephants are observed listening by putting trunks on the ground and carefully moving their very sensitive feet\n",
      "BERT:  sound communication between elephants on large distances through the ground is important in their social lives and elephants are observed listening by putting trunks on the ground and carefully moving their very sensitive feet\n"
     ]
    }
   ],
   "source": [
    "visualise(342)"
   ]
  },
  {
   "cell_type": "code",
   "execution_count": null,
   "metadata": {
    "colab": {
     "base_uri": "https://localhost:8080/"
    },
    "id": "_ErBeUpt-Mc8",
    "outputId": "0002301e-2f27-48b6-f6ff-f570f53cb141"
   },
   "outputs": [
    {
     "name": "stdout",
     "output_type": "stream",
     "text": [
      "Question:  what roman province was liechtenstein part of\n",
      "Question:  what roman province was liechtenstein part of\n",
      "Real:  raetia\n",
      "WV:   at one time the territory of liechtenstein formed a part of the ancient roman province of raetia\n",
      "SIF:   at one time the territory of liechtenstein formed a part of the ancient roman province of raetia\n",
      "BERT:  rae tia\n"
     ]
    }
   ],
   "source": [
    "visualise(872)"
   ]
  },
  {
   "cell_type": "code",
   "execution_count": null,
   "metadata": {
    "colab": {
     "base_uri": "https://localhost:8080/"
    },
    "id": "l_aKYbbS-MiD",
    "outputId": "b66cc59a-9905-47c8-9610-1ff64be20744"
   },
   "outputs": [
    {
     "name": "stdout",
     "output_type": "stream",
     "text": [
      "Question:  what did roosevelt do to improve his physical condition\n",
      "Question:  what did roosevelt do to improve his physical condition\n",
      "Real:  roosevelt took up exercise\n",
      "WV:   roosevelt timeline\n",
      "SIF:   to combat his poor physical condition his father compelled the young roosevelt to take up exercise\n",
      "BERT:  roosevelt underwent a physical examination\n"
     ]
    }
   ],
   "source": [
    "visualise(1242)"
   ]
  },
  {
   "cell_type": "code",
   "execution_count": null,
   "metadata": {
    "id": "ttZepLYuBtjs"
   },
   "outputs": [],
   "source": [
    "import random\n",
    "randomlist = random.sample(range(0, len(df)), 200)\n",
    "output = compare(list(randomlist))\n",
    "# print(output)\n",
    "# print(len(output))"
   ]
  },
  {
   "cell_type": "code",
   "execution_count": null,
   "metadata": {
    "colab": {
     "base_uri": "https://localhost:8080/"
    },
    "id": "AHlnJkJxGo5M",
    "outputId": "5987b4e6-be52-4390-a8ee-2b3b2b1ab00c"
   },
   "outputs": [
    {
     "name": "stdout",
     "output_type": "stream",
     "text": [
      "Word2Vec Avg Similarity: [[0.5839711]]\n",
      "SIF Avg Similarity: [[0.646862]]\n",
      "BERTwSIF Avg Similarity: [[0.812913]]\n"
     ]
    }
   ],
   "source": [
    "# Final metrics (Average Cosine Similarity Over SIF Embeddings)\n",
    "print('Word2Vec Avg Similarity: ', sum(output[0])/len(output[0]))\n",
    "print('SIF Avg Similarity: ', sum(output[1])/len(output[1]))\n",
    "print('BERTwSIF Avg Similarity: ', sum(output[2])/len(output[2]))"
   ]
  },
  {
   "cell_type": "code",
   "execution_count": null,
   "metadata": {
    "colab": {
     "base_uri": "https://localhost:8080/"
    },
    "id": "EU84QqW_ACWI",
    "outputId": "f503f841-6c3a-409b-dc9c-bd13c10aee90"
   },
   "outputs": [
    {
     "name": "stdout",
     "output_type": "stream",
     "text": [
      "Question:  what do they teach at ashoka?\n"
     ]
    },
    {
     "data": {
      "text/plain": [
       "0    foundation al knowledge , thorough academic research\n",
       "Name: 0, dtype: object"
      ]
     },
     "execution_count": 93,
     "metadata": {
      "tags": []
     },
     "output_type": "execute_result"
    }
   ],
   "source": [
    "# Sample user question picked up from the internet along with context\n",
    "getAnswerBert(('What do they teach at Ashoka?').lower(), ('Ashoka University is a pioneer in its focus on providing a liberal education at par with the best in the world. The aim at Ashoka is to help students become well-rounded individuals who can think critically about issues from multiple perspectives, communicate effectively and become leaders with a commitment to public service. An Ashoka education carries a strong emphasis on foundational knowledge, thorough academic research based on rigorous pedagogy, and hands-on experience with real-world challenging. The 2000-plus students on campus, drawn from 30 states and over 243 cities in India and 27 other countries, receive a world-class interdisciplinary education through undergraduate and post-graduate programmes led by internationally renowned faculty.').lower())"
   ]
  }
 ],
 "metadata": {
  "accelerator": "GPU",
  "colab": {
   "collapsed_sections": [],
   "name": "FINAL MODEL - BERT + SIF (& Comparision).ipynb",
   "provenance": []
  },
  "kernelspec": {
   "display_name": "Python 3 (ipykernel)",
   "language": "python",
   "name": "python3"
  },
  "language_info": {
   "codemirror_mode": {
    "name": "ipython",
    "version": 3
   },
   "file_extension": ".py",
   "mimetype": "text/x-python",
   "name": "python",
   "nbconvert_exporter": "python",
   "pygments_lexer": "ipython3",
   "version": "3.8.13"
  },
  "widgets": {
   "application/vnd.jupyter.widget-state+json": {
    "0a5acc04034c4282be2a23c1bc233abf": {
     "model_module": "@jupyter-widgets/base",
     "model_name": "LayoutModel",
     "state": {
      "_model_module": "@jupyter-widgets/base",
      "_model_module_version": "1.2.0",
      "_model_name": "LayoutModel",
      "_view_count": null,
      "_view_module": "@jupyter-widgets/base",
      "_view_module_version": "1.2.0",
      "_view_name": "LayoutView",
      "align_content": null,
      "align_items": null,
      "align_self": null,
      "border": null,
      "bottom": null,
      "display": null,
      "flex": null,
      "flex_flow": null,
      "grid_area": null,
      "grid_auto_columns": null,
      "grid_auto_flow": null,
      "grid_auto_rows": null,
      "grid_column": null,
      "grid_gap": null,
      "grid_row": null,
      "grid_template_areas": null,
      "grid_template_columns": null,
      "grid_template_rows": null,
      "height": null,
      "justify_content": null,
      "justify_items": null,
      "left": null,
      "margin": null,
      "max_height": null,
      "max_width": null,
      "min_height": null,
      "min_width": null,
      "object_fit": null,
      "object_position": null,
      "order": null,
      "overflow": null,
      "overflow_x": null,
      "overflow_y": null,
      "padding": null,
      "right": null,
      "top": null,
      "visibility": null,
      "width": null
     }
    },
    "0a97387e3e7f45cda4ab40b9f9ed8523": {
     "model_module": "@jupyter-widgets/base",
     "model_name": "LayoutModel",
     "state": {
      "_model_module": "@jupyter-widgets/base",
      "_model_module_version": "1.2.0",
      "_model_name": "LayoutModel",
      "_view_count": null,
      "_view_module": "@jupyter-widgets/base",
      "_view_module_version": "1.2.0",
      "_view_name": "LayoutView",
      "align_content": null,
      "align_items": null,
      "align_self": null,
      "border": null,
      "bottom": null,
      "display": null,
      "flex": null,
      "flex_flow": null,
      "grid_area": null,
      "grid_auto_columns": null,
      "grid_auto_flow": null,
      "grid_auto_rows": null,
      "grid_column": null,
      "grid_gap": null,
      "grid_row": null,
      "grid_template_areas": null,
      "grid_template_columns": null,
      "grid_template_rows": null,
      "height": null,
      "justify_content": null,
      "justify_items": null,
      "left": null,
      "margin": null,
      "max_height": null,
      "max_width": null,
      "min_height": null,
      "min_width": null,
      "object_fit": null,
      "object_position": null,
      "order": null,
      "overflow": null,
      "overflow_x": null,
      "overflow_y": null,
      "padding": null,
      "right": null,
      "top": null,
      "visibility": null,
      "width": null
     }
    },
    "16628ff6cf664289b97f5832e47f13c1": {
     "model_module": "@jupyter-widgets/controls",
     "model_name": "HBoxModel",
     "state": {
      "_dom_classes": [],
      "_model_module": "@jupyter-widgets/controls",
      "_model_module_version": "1.5.0",
      "_model_name": "HBoxModel",
      "_view_count": null,
      "_view_module": "@jupyter-widgets/controls",
      "_view_module_version": "1.5.0",
      "_view_name": "HBoxView",
      "box_style": "",
      "children": [
       "IPY_MODEL_6d2c3188c76a443a9e12c8e54825d845",
       "IPY_MODEL_3dcb39b110ad4a2cab3a3fa313736d24"
      ],
      "layout": "IPY_MODEL_36bfa944fa0f4db594e0c734b47d75df"
     }
    },
    "1d4884b3f1ce41e4b4fc744dc4fa4ba1": {
     "model_module": "@jupyter-widgets/controls",
     "model_name": "DescriptionStyleModel",
     "state": {
      "_model_module": "@jupyter-widgets/controls",
      "_model_module_version": "1.5.0",
      "_model_name": "DescriptionStyleModel",
      "_view_count": null,
      "_view_module": "@jupyter-widgets/base",
      "_view_module_version": "1.2.0",
      "_view_name": "StyleView",
      "description_width": ""
     }
    },
    "221e597b78714b0ca1e1912d3ffad110": {
     "model_module": "@jupyter-widgets/base",
     "model_name": "LayoutModel",
     "state": {
      "_model_module": "@jupyter-widgets/base",
      "_model_module_version": "1.2.0",
      "_model_name": "LayoutModel",
      "_view_count": null,
      "_view_module": "@jupyter-widgets/base",
      "_view_module_version": "1.2.0",
      "_view_name": "LayoutView",
      "align_content": null,
      "align_items": null,
      "align_self": null,
      "border": null,
      "bottom": null,
      "display": null,
      "flex": null,
      "flex_flow": null,
      "grid_area": null,
      "grid_auto_columns": null,
      "grid_auto_flow": null,
      "grid_auto_rows": null,
      "grid_column": null,
      "grid_gap": null,
      "grid_row": null,
      "grid_template_areas": null,
      "grid_template_columns": null,
      "grid_template_rows": null,
      "height": null,
      "justify_content": null,
      "justify_items": null,
      "left": null,
      "margin": null,
      "max_height": null,
      "max_width": null,
      "min_height": null,
      "min_width": null,
      "object_fit": null,
      "object_position": null,
      "order": null,
      "overflow": null,
      "overflow_x": null,
      "overflow_y": null,
      "padding": null,
      "right": null,
      "top": null,
      "visibility": null,
      "width": null
     }
    },
    "272c913393614ce48e62c3ed76bc05e4": {
     "model_module": "@jupyter-widgets/base",
     "model_name": "LayoutModel",
     "state": {
      "_model_module": "@jupyter-widgets/base",
      "_model_module_version": "1.2.0",
      "_model_name": "LayoutModel",
      "_view_count": null,
      "_view_module": "@jupyter-widgets/base",
      "_view_module_version": "1.2.0",
      "_view_name": "LayoutView",
      "align_content": null,
      "align_items": null,
      "align_self": null,
      "border": null,
      "bottom": null,
      "display": null,
      "flex": null,
      "flex_flow": null,
      "grid_area": null,
      "grid_auto_columns": null,
      "grid_auto_flow": null,
      "grid_auto_rows": null,
      "grid_column": null,
      "grid_gap": null,
      "grid_row": null,
      "grid_template_areas": null,
      "grid_template_columns": null,
      "grid_template_rows": null,
      "height": null,
      "justify_content": null,
      "justify_items": null,
      "left": null,
      "margin": null,
      "max_height": null,
      "max_width": null,
      "min_height": null,
      "min_width": null,
      "object_fit": null,
      "object_position": null,
      "order": null,
      "overflow": null,
      "overflow_x": null,
      "overflow_y": null,
      "padding": null,
      "right": null,
      "top": null,
      "visibility": null,
      "width": null
     }
    },
    "31752e608182413c931e810a9f19f1d7": {
     "model_module": "@jupyter-widgets/controls",
     "model_name": "HBoxModel",
     "state": {
      "_dom_classes": [],
      "_model_module": "@jupyter-widgets/controls",
      "_model_module_version": "1.5.0",
      "_model_name": "HBoxModel",
      "_view_count": null,
      "_view_module": "@jupyter-widgets/controls",
      "_view_module_version": "1.5.0",
      "_view_name": "HBoxView",
      "box_style": "",
      "children": [
       "IPY_MODEL_d946375851f74a05afb56111817483ad",
       "IPY_MODEL_4bdfe15ed6d341aca27a5ddff4fb1b15"
      ],
      "layout": "IPY_MODEL_598ae050c3a043b0bc19254f38a244d4"
     }
    },
    "36bfa944fa0f4db594e0c734b47d75df": {
     "model_module": "@jupyter-widgets/base",
     "model_name": "LayoutModel",
     "state": {
      "_model_module": "@jupyter-widgets/base",
      "_model_module_version": "1.2.0",
      "_model_name": "LayoutModel",
      "_view_count": null,
      "_view_module": "@jupyter-widgets/base",
      "_view_module_version": "1.2.0",
      "_view_name": "LayoutView",
      "align_content": null,
      "align_items": null,
      "align_self": null,
      "border": null,
      "bottom": null,
      "display": null,
      "flex": null,
      "flex_flow": null,
      "grid_area": null,
      "grid_auto_columns": null,
      "grid_auto_flow": null,
      "grid_auto_rows": null,
      "grid_column": null,
      "grid_gap": null,
      "grid_row": null,
      "grid_template_areas": null,
      "grid_template_columns": null,
      "grid_template_rows": null,
      "height": null,
      "justify_content": null,
      "justify_items": null,
      "left": null,
      "margin": null,
      "max_height": null,
      "max_width": null,
      "min_height": null,
      "min_width": null,
      "object_fit": null,
      "object_position": null,
      "order": null,
      "overflow": null,
      "overflow_x": null,
      "overflow_y": null,
      "padding": null,
      "right": null,
      "top": null,
      "visibility": null,
      "width": null
     }
    },
    "3dcb39b110ad4a2cab3a3fa313736d24": {
     "model_module": "@jupyter-widgets/controls",
     "model_name": "HTMLModel",
     "state": {
      "_dom_classes": [],
      "_model_module": "@jupyter-widgets/controls",
      "_model_module_version": "1.5.0",
      "_model_name": "HTMLModel",
      "_view_count": null,
      "_view_module": "@jupyter-widgets/controls",
      "_view_module_version": "1.5.0",
      "_view_name": "HTMLView",
      "description": "",
      "description_tooltip": null,
      "layout": "IPY_MODEL_272c913393614ce48e62c3ed76bc05e4",
      "placeholder": "​",
      "style": "IPY_MODEL_1d4884b3f1ce41e4b4fc744dc4fa4ba1",
      "value": " 1.34G/1.34G [00:27&lt;00:00, 48.1MB/s]"
     }
    },
    "458b2eea98d641ed85493cdbdc28cf73": {
     "model_module": "@jupyter-widgets/controls",
     "model_name": "DescriptionStyleModel",
     "state": {
      "_model_module": "@jupyter-widgets/controls",
      "_model_module_version": "1.5.0",
      "_model_name": "DescriptionStyleModel",
      "_view_count": null,
      "_view_module": "@jupyter-widgets/base",
      "_view_module_version": "1.2.0",
      "_view_name": "StyleView",
      "description_width": ""
     }
    },
    "49deb7315cde427b88f2947e5fd3b4a7": {
     "model_module": "@jupyter-widgets/base",
     "model_name": "LayoutModel",
     "state": {
      "_model_module": "@jupyter-widgets/base",
      "_model_module_version": "1.2.0",
      "_model_name": "LayoutModel",
      "_view_count": null,
      "_view_module": "@jupyter-widgets/base",
      "_view_module_version": "1.2.0",
      "_view_name": "LayoutView",
      "align_content": null,
      "align_items": null,
      "align_self": null,
      "border": null,
      "bottom": null,
      "display": null,
      "flex": null,
      "flex_flow": null,
      "grid_area": null,
      "grid_auto_columns": null,
      "grid_auto_flow": null,
      "grid_auto_rows": null,
      "grid_column": null,
      "grid_gap": null,
      "grid_row": null,
      "grid_template_areas": null,
      "grid_template_columns": null,
      "grid_template_rows": null,
      "height": null,
      "justify_content": null,
      "justify_items": null,
      "left": null,
      "margin": null,
      "max_height": null,
      "max_width": null,
      "min_height": null,
      "min_width": null,
      "object_fit": null,
      "object_position": null,
      "order": null,
      "overflow": null,
      "overflow_x": null,
      "overflow_y": null,
      "padding": null,
      "right": null,
      "top": null,
      "visibility": null,
      "width": null
     }
    },
    "4bdfe15ed6d341aca27a5ddff4fb1b15": {
     "model_module": "@jupyter-widgets/controls",
     "model_name": "HTMLModel",
     "state": {
      "_dom_classes": [],
      "_model_module": "@jupyter-widgets/controls",
      "_model_module_version": "1.5.0",
      "_model_name": "HTMLModel",
      "_view_count": null,
      "_view_module": "@jupyter-widgets/controls",
      "_view_module_version": "1.5.0",
      "_view_name": "HTMLView",
      "description": "",
      "description_tooltip": null,
      "layout": "IPY_MODEL_0a5acc04034c4282be2a23c1bc233abf",
      "placeholder": "​",
      "style": "IPY_MODEL_458b2eea98d641ed85493cdbdc28cf73",
      "value": " 443/443 [00:00&lt;00:00, 1.21kB/s]"
     }
    },
    "4e17ba1a605b49c6a18a78a320e0d961": {
     "model_module": "@jupyter-widgets/controls",
     "model_name": "ProgressStyleModel",
     "state": {
      "_model_module": "@jupyter-widgets/controls",
      "_model_module_version": "1.5.0",
      "_model_name": "ProgressStyleModel",
      "_view_count": null,
      "_view_module": "@jupyter-widgets/base",
      "_view_module_version": "1.2.0",
      "_view_name": "StyleView",
      "bar_color": null,
      "description_width": "initial"
     }
    },
    "598ae050c3a043b0bc19254f38a244d4": {
     "model_module": "@jupyter-widgets/base",
     "model_name": "LayoutModel",
     "state": {
      "_model_module": "@jupyter-widgets/base",
      "_model_module_version": "1.2.0",
      "_model_name": "LayoutModel",
      "_view_count": null,
      "_view_module": "@jupyter-widgets/base",
      "_view_module_version": "1.2.0",
      "_view_name": "LayoutView",
      "align_content": null,
      "align_items": null,
      "align_self": null,
      "border": null,
      "bottom": null,
      "display": null,
      "flex": null,
      "flex_flow": null,
      "grid_area": null,
      "grid_auto_columns": null,
      "grid_auto_flow": null,
      "grid_auto_rows": null,
      "grid_column": null,
      "grid_gap": null,
      "grid_row": null,
      "grid_template_areas": null,
      "grid_template_columns": null,
      "grid_template_rows": null,
      "height": null,
      "justify_content": null,
      "justify_items": null,
      "left": null,
      "margin": null,
      "max_height": null,
      "max_width": null,
      "min_height": null,
      "min_width": null,
      "object_fit": null,
      "object_position": null,
      "order": null,
      "overflow": null,
      "overflow_x": null,
      "overflow_y": null,
      "padding": null,
      "right": null,
      "top": null,
      "visibility": null,
      "width": null
     }
    },
    "6c6530f2c6a04892aa373ddd6292ac08": {
     "model_module": "@jupyter-widgets/base",
     "model_name": "LayoutModel",
     "state": {
      "_model_module": "@jupyter-widgets/base",
      "_model_module_version": "1.2.0",
      "_model_name": "LayoutModel",
      "_view_count": null,
      "_view_module": "@jupyter-widgets/base",
      "_view_module_version": "1.2.0",
      "_view_name": "LayoutView",
      "align_content": null,
      "align_items": null,
      "align_self": null,
      "border": null,
      "bottom": null,
      "display": null,
      "flex": null,
      "flex_flow": null,
      "grid_area": null,
      "grid_auto_columns": null,
      "grid_auto_flow": null,
      "grid_auto_rows": null,
      "grid_column": null,
      "grid_gap": null,
      "grid_row": null,
      "grid_template_areas": null,
      "grid_template_columns": null,
      "grid_template_rows": null,
      "height": null,
      "justify_content": null,
      "justify_items": null,
      "left": null,
      "margin": null,
      "max_height": null,
      "max_width": null,
      "min_height": null,
      "min_width": null,
      "object_fit": null,
      "object_position": null,
      "order": null,
      "overflow": null,
      "overflow_x": null,
      "overflow_y": null,
      "padding": null,
      "right": null,
      "top": null,
      "visibility": null,
      "width": null
     }
    },
    "6d2c3188c76a443a9e12c8e54825d845": {
     "model_module": "@jupyter-widgets/controls",
     "model_name": "FloatProgressModel",
     "state": {
      "_dom_classes": [],
      "_model_module": "@jupyter-widgets/controls",
      "_model_module_version": "1.5.0",
      "_model_name": "FloatProgressModel",
      "_view_count": null,
      "_view_module": "@jupyter-widgets/controls",
      "_view_module_version": "1.5.0",
      "_view_name": "ProgressView",
      "bar_style": "success",
      "description": "Downloading: 100%",
      "description_tooltip": null,
      "layout": "IPY_MODEL_49deb7315cde427b88f2947e5fd3b4a7",
      "max": 1340675298,
      "min": 0,
      "orientation": "horizontal",
      "style": "IPY_MODEL_f1e56a3d4f04478aa865f758989a5fde",
      "value": 1340675298
     }
    },
    "6f1f8cbbfd6a4a1baa01bfc767180345": {
     "model_module": "@jupyter-widgets/controls",
     "model_name": "HTMLModel",
     "state": {
      "_dom_classes": [],
      "_model_module": "@jupyter-widgets/controls",
      "_model_module_version": "1.5.0",
      "_model_name": "HTMLModel",
      "_view_count": null,
      "_view_module": "@jupyter-widgets/controls",
      "_view_module_version": "1.5.0",
      "_view_name": "HTMLView",
      "description": "",
      "description_tooltip": null,
      "layout": "IPY_MODEL_221e597b78714b0ca1e1912d3ffad110",
      "placeholder": "​",
      "style": "IPY_MODEL_ebe25a0f779d47cf940cf16fd3e3cba5",
      "value": " 232k/232k [00:00&lt;00:00, 807kB/s]"
     }
    },
    "6f65c2eb4bce40558e22a6ba5b195502": {
     "model_module": "@jupyter-widgets/base",
     "model_name": "LayoutModel",
     "state": {
      "_model_module": "@jupyter-widgets/base",
      "_model_module_version": "1.2.0",
      "_model_name": "LayoutModel",
      "_view_count": null,
      "_view_module": "@jupyter-widgets/base",
      "_view_module_version": "1.2.0",
      "_view_name": "LayoutView",
      "align_content": null,
      "align_items": null,
      "align_self": null,
      "border": null,
      "bottom": null,
      "display": null,
      "flex": null,
      "flex_flow": null,
      "grid_area": null,
      "grid_auto_columns": null,
      "grid_auto_flow": null,
      "grid_auto_rows": null,
      "grid_column": null,
      "grid_gap": null,
      "grid_row": null,
      "grid_template_areas": null,
      "grid_template_columns": null,
      "grid_template_rows": null,
      "height": null,
      "justify_content": null,
      "justify_items": null,
      "left": null,
      "margin": null,
      "max_height": null,
      "max_width": null,
      "min_height": null,
      "min_width": null,
      "object_fit": null,
      "object_position": null,
      "order": null,
      "overflow": null,
      "overflow_x": null,
      "overflow_y": null,
      "padding": null,
      "right": null,
      "top": null,
      "visibility": null,
      "width": null
     }
    },
    "bd22de98c71a43f7901521fc1a511ed3": {
     "model_module": "@jupyter-widgets/controls",
     "model_name": "HBoxModel",
     "state": {
      "_dom_classes": [],
      "_model_module": "@jupyter-widgets/controls",
      "_model_module_version": "1.5.0",
      "_model_name": "HBoxModel",
      "_view_count": null,
      "_view_module": "@jupyter-widgets/controls",
      "_view_module_version": "1.5.0",
      "_view_name": "HBoxView",
      "box_style": "",
      "children": [
       "IPY_MODEL_c28f498223b34fd6a08149e9053b4c9d",
       "IPY_MODEL_6f1f8cbbfd6a4a1baa01bfc767180345"
      ],
      "layout": "IPY_MODEL_0a97387e3e7f45cda4ab40b9f9ed8523"
     }
    },
    "c28f498223b34fd6a08149e9053b4c9d": {
     "model_module": "@jupyter-widgets/controls",
     "model_name": "FloatProgressModel",
     "state": {
      "_dom_classes": [],
      "_model_module": "@jupyter-widgets/controls",
      "_model_module_version": "1.5.0",
      "_model_name": "FloatProgressModel",
      "_view_count": null,
      "_view_module": "@jupyter-widgets/controls",
      "_view_module_version": "1.5.0",
      "_view_name": "ProgressView",
      "bar_style": "success",
      "description": "Downloading: 100%",
      "description_tooltip": null,
      "layout": "IPY_MODEL_6f65c2eb4bce40558e22a6ba5b195502",
      "max": 231508,
      "min": 0,
      "orientation": "horizontal",
      "style": "IPY_MODEL_4e17ba1a605b49c6a18a78a320e0d961",
      "value": 231508
     }
    },
    "d946375851f74a05afb56111817483ad": {
     "model_module": "@jupyter-widgets/controls",
     "model_name": "FloatProgressModel",
     "state": {
      "_dom_classes": [],
      "_model_module": "@jupyter-widgets/controls",
      "_model_module_version": "1.5.0",
      "_model_name": "FloatProgressModel",
      "_view_count": null,
      "_view_module": "@jupyter-widgets/controls",
      "_view_module_version": "1.5.0",
      "_view_name": "ProgressView",
      "bar_style": "success",
      "description": "Downloading: 100%",
      "description_tooltip": null,
      "layout": "IPY_MODEL_6c6530f2c6a04892aa373ddd6292ac08",
      "max": 443,
      "min": 0,
      "orientation": "horizontal",
      "style": "IPY_MODEL_ec33b0ee57744ce7a2147bcd962dfdba",
      "value": 443
     }
    },
    "ebe25a0f779d47cf940cf16fd3e3cba5": {
     "model_module": "@jupyter-widgets/controls",
     "model_name": "DescriptionStyleModel",
     "state": {
      "_model_module": "@jupyter-widgets/controls",
      "_model_module_version": "1.5.0",
      "_model_name": "DescriptionStyleModel",
      "_view_count": null,
      "_view_module": "@jupyter-widgets/base",
      "_view_module_version": "1.2.0",
      "_view_name": "StyleView",
      "description_width": ""
     }
    },
    "ec33b0ee57744ce7a2147bcd962dfdba": {
     "model_module": "@jupyter-widgets/controls",
     "model_name": "ProgressStyleModel",
     "state": {
      "_model_module": "@jupyter-widgets/controls",
      "_model_module_version": "1.5.0",
      "_model_name": "ProgressStyleModel",
      "_view_count": null,
      "_view_module": "@jupyter-widgets/base",
      "_view_module_version": "1.2.0",
      "_view_name": "StyleView",
      "bar_color": null,
      "description_width": "initial"
     }
    },
    "f1e56a3d4f04478aa865f758989a5fde": {
     "model_module": "@jupyter-widgets/controls",
     "model_name": "ProgressStyleModel",
     "state": {
      "_model_module": "@jupyter-widgets/controls",
      "_model_module_version": "1.5.0",
      "_model_name": "ProgressStyleModel",
      "_view_count": null,
      "_view_module": "@jupyter-widgets/base",
      "_view_module_version": "1.2.0",
      "_view_name": "StyleView",
      "bar_color": null,
      "description_width": "initial"
     }
    }
   }
  }
 },
 "nbformat": 4,
 "nbformat_minor": 1
}
